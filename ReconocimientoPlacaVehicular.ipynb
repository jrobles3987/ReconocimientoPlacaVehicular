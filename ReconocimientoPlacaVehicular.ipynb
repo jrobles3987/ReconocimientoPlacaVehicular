{
  "nbformat": 4,
  "nbformat_minor": 0,
  "metadata": {
    "colab": {
      "provenance": [],
      "gpuType": "T4",
      "authorship_tag": "ABX9TyMTUZ96Jib82HQHwgBa9nT/",
      "include_colab_link": true
    },
    "kernelspec": {
      "name": "python3",
      "display_name": "Python 3"
    },
    "language_info": {
      "name": "python"
    },
    "accelerator": "GPU"
  },
  "cells": [
    {
      "cell_type": "markdown",
      "metadata": {
        "id": "view-in-github",
        "colab_type": "text"
      },
      "source": [
        "<a href=\"https://colab.research.google.com/github/jrobles3987/ReconocimientoPlacaVehicular/blob/main/ReconocimientoPlacaVehicular.ipynb\" target=\"_parent\"><img src=\"https://colab.research.google.com/assets/colab-badge.svg\" alt=\"Open In Colab\"/></a>"
      ]
    },
    {
      "cell_type": "code",
      "execution_count": 4,
      "metadata": {
        "colab": {
          "base_uri": "https://localhost:8080/"
        },
        "id": "0ZpNGAyFM5Tq",
        "outputId": "5b26e4f7-d021-48c6-eae0-fda55bf6e3b6"
      },
      "outputs": [
        {
          "output_type": "stream",
          "name": "stderr",
          "text": [
            "Ultralytics YOLOv8.0.200 🚀 Python-3.10.12 torch-2.1.0+cu118 CUDA:0 (Tesla T4, 15102MiB)\n",
            "Setup complete ✅ (2 CPUs, 12.7 GB RAM, 27.2/78.2 GB disk)\n"
          ]
        }
      ],
      "source": [
        "!pip install ultralytics\n",
        "import ultralytics\n",
        "ultralytics.checks()"
      ]
    },
    {
      "cell_type": "code",
      "source": [
        "### En el caso de que desee descargar el data.zip\n",
        "# import torch\n",
        "# torch.hub.download_url_to_file('https://ultralytics.com/assets/data.zip', 'data.zip')\n",
        "\n",
        "#descomprimir el zip\n",
        "!unzip -q data.zip -d datasets && rm data.zip  # unzip"
      ],
      "metadata": {
        "id": "Tx9htWZwRr-S"
      },
      "execution_count": null,
      "outputs": []
    },
    {
      "cell_type": "code",
      "source": [
        "### Validar YOLOv8n on DATA val\n",
        "!yolo val model=model/yolov8n.pt data=data/data.yaml"
      ],
      "metadata": {
        "id": "-wvFcKHLSF57"
      },
      "execution_count": null,
      "outputs": []
    },
    {
      "cell_type": "code",
      "source": [
        "!python testTranin.py"
      ],
      "metadata": {
        "id": "mMmlQ6uOQw-p"
      },
      "execution_count": null,
      "outputs": []
    }
  ]
}